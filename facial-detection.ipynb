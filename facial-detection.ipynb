{
 "cells": [
  {
   "cell_type": "code",
   "execution_count": 5,
   "metadata": {
    "_cell_guid": "b1076dfc-b9ad-4769-8c92-a6c4dae69d19",
    "_uuid": "8f2839f25d086af736a60e9eeb907d3b93b6e0e5"
   },
   "outputs": [],
   "source": [
    "\n",
    "import numpy as np \n",
    "import pandas as pd \n",
    "import cv2\n",
    "\n"
   ]
  },
  {
   "cell_type": "code",
   "execution_count": 6,
   "metadata": {
    "_cell_guid": "79c7e3d0-c299-4dcb-8224-4455121ee9b0",
    "_uuid": "d629ff2d2480ee46fbb7e2d37f6b5fab8052498a"
   },
   "outputs": [],
   "source": [
    "df = pd.read_csv('fer2013.csv')"
   ]
  },
  {
   "cell_type": "code",
   "execution_count": 7,
   "metadata": {},
   "outputs": [
    {
     "data": {
      "text/html": [
       "<div>\n",
       "<style scoped>\n",
       "    .dataframe tbody tr th:only-of-type {\n",
       "        vertical-align: middle;\n",
       "    }\n",
       "\n",
       "    .dataframe tbody tr th {\n",
       "        vertical-align: top;\n",
       "    }\n",
       "\n",
       "    .dataframe thead th {\n",
       "        text-align: right;\n",
       "    }\n",
       "</style>\n",
       "<table border=\"1\" class=\"dataframe\">\n",
       "  <thead>\n",
       "    <tr style=\"text-align: right;\">\n",
       "      <th></th>\n",
       "      <th>emotion</th>\n",
       "      <th>pixels</th>\n",
       "      <th>Usage</th>\n",
       "    </tr>\n",
       "  </thead>\n",
       "  <tbody>\n",
       "    <tr>\n",
       "      <th>0</th>\n",
       "      <td>0</td>\n",
       "      <td>70 80 82 72 58 58 60 63 54 58 60 48 89 115 121...</td>\n",
       "      <td>Training</td>\n",
       "    </tr>\n",
       "    <tr>\n",
       "      <th>1</th>\n",
       "      <td>0</td>\n",
       "      <td>151 150 147 155 148 133 111 140 170 174 182 15...</td>\n",
       "      <td>Training</td>\n",
       "    </tr>\n",
       "    <tr>\n",
       "      <th>2</th>\n",
       "      <td>2</td>\n",
       "      <td>231 212 156 164 174 138 161 173 182 200 106 38...</td>\n",
       "      <td>Training</td>\n",
       "    </tr>\n",
       "    <tr>\n",
       "      <th>3</th>\n",
       "      <td>4</td>\n",
       "      <td>24 32 36 30 32 23 19 20 30 41 21 22 32 34 21 1...</td>\n",
       "      <td>Training</td>\n",
       "    </tr>\n",
       "    <tr>\n",
       "      <th>4</th>\n",
       "      <td>6</td>\n",
       "      <td>4 0 0 0 0 0 0 0 0 0 0 0 3 15 23 28 48 50 58 84...</td>\n",
       "      <td>Training</td>\n",
       "    </tr>\n",
       "  </tbody>\n",
       "</table>\n",
       "</div>"
      ],
      "text/plain": [
       "   emotion                                             pixels     Usage\n",
       "0        0  70 80 82 72 58 58 60 63 54 58 60 48 89 115 121...  Training\n",
       "1        0  151 150 147 155 148 133 111 140 170 174 182 15...  Training\n",
       "2        2  231 212 156 164 174 138 161 173 182 200 106 38...  Training\n",
       "3        4  24 32 36 30 32 23 19 20 30 41 21 22 32 34 21 1...  Training\n",
       "4        6  4 0 0 0 0 0 0 0 0 0 0 0 3 15 23 28 48 50 58 84...  Training"
      ]
     },
     "execution_count": 7,
     "metadata": {},
     "output_type": "execute_result"
    }
   ],
   "source": [
    "df.head()"
   ]
  },
  {
   "cell_type": "code",
   "execution_count": 8,
   "metadata": {},
   "outputs": [
    {
     "data": {
      "text/plain": [
       "2304"
      ]
     },
     "execution_count": 8,
     "metadata": {},
     "output_type": "execute_result"
    }
   ],
   "source": [
    "len(df.iloc[0]['pixels'].split())\n",
    "# 48 * 48"
   ]
  },
  {
   "cell_type": "code",
   "execution_count": 9,
   "metadata": {},
   "outputs": [],
   "source": [
    "label_map = ['Anger', 'Neutral', 'Fear', 'Happy', 'Sad', 'Surprise']"
   ]
  },
  {
   "cell_type": "code",
   "execution_count": 10,
   "metadata": {},
   "outputs": [],
   "source": [
    "import matplotlib.pyplot as plt"
   ]
  },
  {
   "cell_type": "code",
   "execution_count": 11,
   "metadata": {},
   "outputs": [],
   "source": [
    "img = df.iloc[0]['pixels'].split()"
   ]
  },
  {
   "cell_type": "code",
   "execution_count": 12,
   "metadata": {},
   "outputs": [],
   "source": [
    "img = [int(i) for i in img]"
   ]
  },
  {
   "cell_type": "code",
   "execution_count": 13,
   "metadata": {},
   "outputs": [
    {
     "data": {
      "text/plain": [
       "int"
      ]
     },
     "execution_count": 13,
     "metadata": {},
     "output_type": "execute_result"
    }
   ],
   "source": [
    "type(img[0])"
   ]
  },
  {
   "cell_type": "code",
   "execution_count": 14,
   "metadata": {},
   "outputs": [
    {
     "data": {
      "text/plain": [
       "2304"
      ]
     },
     "execution_count": 14,
     "metadata": {},
     "output_type": "execute_result"
    }
   ],
   "source": [
    "len(img)"
   ]
  },
  {
   "cell_type": "code",
   "execution_count": 15,
   "metadata": {},
   "outputs": [],
   "source": [
    "img = np.array(img)"
   ]
  },
  {
   "cell_type": "code",
   "execution_count": 16,
   "metadata": {},
   "outputs": [],
   "source": [
    "img = img.reshape(48,48)"
   ]
  },
  {
   "cell_type": "code",
   "execution_count": 17,
   "metadata": {},
   "outputs": [
    {
     "data": {
      "text/plain": [
       "(48, 48)"
      ]
     },
     "execution_count": 17,
     "metadata": {},
     "output_type": "execute_result"
    }
   ],
   "source": [
    "img.shape"
   ]
  },
  {
   "cell_type": "code",
   "execution_count": 18,
   "metadata": {},
   "outputs": [
    {
     "data": {
      "text/plain": [
       "Text(0.5, 0, '0')"
      ]
     },
     "execution_count": 18,
     "metadata": {},
     "output_type": "execute_result"
    },
    {
     "data": {
      "image/png": "[encoded data removed]",
      "text/plain": [
       "<Figure size 640x480 with 1 Axes>"
      ]
     },
     "metadata": {},
     "output_type": "display_data"
    }
   ],
   "source": [
    "plt.imshow(img, cmap='gray')\n",
    "plt.xlabel(df.iloc[0]['emotion'])"
   ]
  },
  {
   "cell_type": "code",
   "execution_count": 19,
   "metadata": {},
   "outputs": [],
   "source": [
    "X = []\n",
    "y = []"
   ]
  },
  {
   "cell_type": "code",
   "execution_count": 20,
   "metadata": {},
   "outputs": [],
   "source": [
    "def getData(path):\n",
    "    anger = 0\n",
    "    fear = 0\n",
    "    sad = 0\n",
    "    happy = 0\n",
    "    surprise = 0\n",
    "    neutral = 0\n",
    "    df = pd.read_csv(path)\n",
    "    \n",
    "    X = []\n",
    "    y = []    \n",
    "    \n",
    "    for i in range(len(df)):\n",
    "        if df.iloc[i]['emotion'] != 1:\n",
    "            if df.iloc[i]['emotion'] == 0:\n",
    "                if anger <= 4000:            \n",
    "                    y.append(df.iloc[i]['emotion'])\n",
    "                    im = df.iloc[i]['pixels']\n",
    "                    im = [int(x) for x in im.split()]\n",
    "                    X.append(im)\n",
    "                    anger += 1\n",
    "                else:\n",
    "                    pass\n",
    "                \n",
    "            if df.iloc[i]['emotion'] == 2:\n",
    "                if fear <= 4000:            \n",
    "                    y.append(df.iloc[i]['emotion'])\n",
    "                    im = df.iloc[i]['pixels']\n",
    "                    im = [int(x) for x in im.split()]\n",
    "                    X.append(im)\n",
    "                    fear += 1\n",
    "                else:\n",
    "                    pass\n",
    "                \n",
    "            if df.iloc[i]['emotion'] == 3:\n",
    "                if happy <= 4000:            \n",
    "                    y.append(df.iloc[i]['emotion'])\n",
    "                    im = df.iloc[i]['pixels']\n",
    "                    im = [int(x) for x in im.split()]\n",
    "                    X.append(im)\n",
    "                    happy += 1\n",
    "                else:\n",
    "                    pass\n",
    "                \n",
    "            if df.iloc[i]['emotion'] == 4:\n",
    "                if sad <= 4000:            \n",
    "                    y.append(df.iloc[i]['emotion'])\n",
    "                    im = df.iloc[i]['pixels']\n",
    "                    im = [int(x) for x in im.split()]\n",
    "                    X.append(im)\n",
    "                    sad += 1\n",
    "                else:\n",
    "                    pass\n",
    "                \n",
    "            if df.iloc[i]['emotion'] == 5:\n",
    "                if surprise <= 4000:            \n",
    "                    y.append(df.iloc[i]['emotion'])\n",
    "                    im = df.iloc[i]['pixels']\n",
    "                    im = [int(x) for x in im.split()]\n",
    "                    X.append(im)\n",
    "                    surprise += 1\n",
    "                else:\n",
    "                    pass\n",
    "                \n",
    "            if df.iloc[i]['emotion'] == 6:\n",
    "                if neutral <= 4000:            \n",
    "                    y.append(df.iloc[i]['emotion'])\n",
    "                    im = df.iloc[i]['pixels']\n",
    "                    im = [int(x) for x in im.split()]\n",
    "                    X.append(im)\n",
    "                    neutral += 1\n",
    "                else:\n",
    "                    pass\n",
    "\n",
    "            \n",
    "            \n",
    "    return X, y  \n",
    "    "
   ]
  },
  {
   "cell_type": "code",
   "execution_count": 21,
   "metadata": {},
   "outputs": [],
   "source": [
    "X, y = getData('fer2013.csv')"
   ]
  },
  {
   "cell_type": "code",
   "execution_count": 22,
   "metadata": {},
   "outputs": [
    {
     "data": {
      "text/plain": [
       "(array([0, 2, 3, 4, 5, 6], dtype=int64),\n",
       " array([4001, 4001, 4001, 4001, 4001, 4001], dtype=int64))"
      ]
     },
     "execution_count": 22,
     "metadata": {},
     "output_type": "execute_result"
    }
   ],
   "source": [
    "np.unique(y, return_counts=True)"
   ]
  },
  {
   "cell_type": "code",
   "execution_count": 23,
   "metadata": {},
   "outputs": [],
   "source": [
    "X = np.array(X)/255.0\n",
    "y = np.array(y)"
   ]
  },
  {
   "cell_type": "code",
   "execution_count": 24,
   "metadata": {},
   "outputs": [
    {
     "data": {
      "text/plain": [
       "((24006, 2304), (24006,))"
      ]
     },
     "execution_count": 24,
     "metadata": {},
     "output_type": "execute_result"
    }
   ],
   "source": [
    "X.shape, y.shape"
   ]
  },
  {
   "cell_type": "code",
   "execution_count": 25,
   "metadata": {},
   "outputs": [],
   "source": [
    "y_o = []\n",
    "for i in y:\n",
    "    if i != 6:\n",
    "        y_o.append(i)\n",
    "        \n",
    "    else:\n",
    "        y_o.append(1)"
   ]
  },
  {
   "cell_type": "code",
   "execution_count": 26,
   "metadata": {},
   "outputs": [
    {
     "data": {
      "text/plain": [
       "(array([0, 1, 2, 3, 4, 5], dtype=int64),\n",
       " array([4001, 4001, 4001, 4001, 4001, 4001], dtype=int64))"
      ]
     },
     "execution_count": 26,
     "metadata": {},
     "output_type": "execute_result"
    }
   ],
   "source": [
    "np.unique(y_o, return_counts=True)"
   ]
  },
  {
   "cell_type": "code",
   "execution_count": 27,
   "metadata": {},
   "outputs": [
    {
     "data": {
      "image/png": "[encoded data removed]",
      "text/plain": [
       "<Figure size 640x480 with 1 Axes>"
      ]
     },
     "metadata": {},
     "output_type": "display_data"
    },
    {
     "data": {
      "image/png": "[encoded data removed]",
      "text/plain": [
       "<Figure size 640x480 with 1 Axes>"
      ]
     },
     "metadata": {},
     "output_type": "display_data"
    },
    {
     "data": {
      "image/png": "[encoded data removed]",
      "text/plain": [
       "<Figure size 640x480 with 1 Axes>"
      ]
     },
     "metadata": {},
     "output_type": "display_data"
    },
    {
     "data": {
      "image/png": "[encoded data removed]",
      "text/plain": [
       "<Figure size 640x480 with 1 Axes>"
      ]
     },
     "metadata": {},
     "output_type": "display_data"
    },
    {
     "data": {
      "image/png": "[encoded data removed]",
      "text/plain": [
       "<Figure size 640x480 with 1 Axes>"
      ]
     },
     "metadata": {},
     "output_type": "display_data"
    }
   ],
   "source": [
    "for i in range(5):\n",
    "    r = np.random.randint((1), 24000, 1)[0]\n",
    "    plt.figure()\n",
    "    plt.imshow(X[r].reshape(48,48), cmap='gray')\n",
    "    plt.xlabel(label_map[y_o[r]])"
   ]
  },
  {
   "cell_type": "code",
   "execution_count": 28,
   "metadata": {},
   "outputs": [],
   "source": [
    "X = X.reshape(len(X), 48, 48, 1)"
   ]
  },
  {
   "cell_type": "code",
   "execution_count": 29,
   "metadata": {},
   "outputs": [],
   "source": [
    "# no_of_images, height, width, coloar_map"
   ]
  },
  {
   "cell_type": "code",
   "execution_count": 30,
   "metadata": {},
   "outputs": [
    {
     "data": {
      "text/plain": [
       "(24006, 48, 48, 1)"
      ]
     },
     "execution_count": 30,
     "metadata": {},
     "output_type": "execute_result"
    }
   ],
   "source": [
    "X.shape"
   ]
  },
  {
   "cell_type": "code",
   "execution_count": 31,
   "metadata": {},
   "outputs": [],
   "source": [
    "from tensorflow.keras.utils import to_categorical\n",
    "y_new = to_categorical(y_o, num_classes=6)"
   ]
  },
  {
   "cell_type": "code",
   "execution_count": 32,
   "metadata": {},
   "outputs": [
    {
     "data": {
      "text/plain": [
       "(24006, (24006, 6))"
      ]
     },
     "execution_count": 32,
     "metadata": {},
     "output_type": "execute_result"
    }
   ],
   "source": [
    "len(y_o), y_new.shape"
   ]
  },
  {
   "cell_type": "code",
   "execution_count": 33,
   "metadata": {},
   "outputs": [
    {
     "data": {
      "text/plain": [
       "(0, array([1., 0., 0., 0., 0., 0.], dtype=float32))"
      ]
     },
     "execution_count": 33,
     "metadata": {},
     "output_type": "execute_result"
    }
   ],
   "source": [
    "y_o[150], y_new[150]"
   ]
  },
  {
   "cell_type": "code",
   "execution_count": 34,
   "metadata": {},
   "outputs": [],
   "source": [
    "from keras.models import Sequential\n",
    "from keras.layers import Dense , Activation , Dropout ,Flatten\n",
    "from keras.layers.convolutional import Conv2D\n",
    "from keras.layers.convolutional import MaxPooling2D\n",
    "from keras.metrics import categorical_accuracy\n",
    "from keras.models import model_from_json\n",
    "from keras.callbacks import ModelCheckpoint\n",
    "from keras.optimizers import *\n",
    "from tensorflow.keras.layers import BatchNormalization"
   ]
  },
  {
   "cell_type": "code",
   "execution_count": 35,
   "metadata": {},
   "outputs": [],
   "source": [
    "model = Sequential()\n",
    "\n",
    "\n",
    "input_shape = (48,48,1)\n",
    "\n",
    "\n",
    "model.add(Conv2D(64, (5, 5), input_shape=input_shape,activation='relu', padding='same'))\n",
    "model.add(Conv2D(64, (5, 5), padding='same'))\n",
    "model.add(BatchNormalization())\n",
    "model.add(Activation('relu'))\n",
    "model.add(MaxPooling2D(pool_size=(2, 2)))\n",
    "\n",
    "\n",
    "model.add(Conv2D(128, (5, 5),activation='relu',padding='same'))\n",
    "model.add(Conv2D(128, (5, 5),padding='same'))\n",
    "model.add(BatchNormalization())\n",
    "model.add(Activation('relu'))\n",
    "model.add(MaxPooling2D(pool_size=(2, 2)))\n",
    "\n",
    "model.add(Conv2D(256, (3, 3),activation='relu',padding='same'))\n",
    "model.add(Conv2D(256, (3, 3),activation='relu',padding='same'))\n",
    "model.add(BatchNormalization())\n",
    "model.add(MaxPooling2D(pool_size=(2, 2)))\n",
    "\n",
    "## (15, 15) --->  30\n",
    "model.add(Flatten())\n",
    "model.add(Dense(6, activation='softmax'))\n",
    "\n",
    "model.compile(loss='categorical_crossentropy', metrics=['accuracy'],optimizer='adam')"
   ]
  },
  {
   "cell_type": "code",
   "execution_count": 36,
   "metadata": {},
   "outputs": [
    {
     "name": "stdout",
     "output_type": "stream",
     "text": [
      "Epoch 1/22\n",
      "301/301 [==============================] - 629s 2s/step - loss: 2.0873 - accuracy: 0.2470 - val_loss: 3.3312 - val_accuracy: 0.1820\n",
      "Epoch 2/22\n",
      "301/301 [==============================] - 652s 2s/step - loss: 1.6703 - accuracy: 0.3404 - val_loss: 2.1852 - val_accuracy: 0.1393\n",
      "Epoch 3/22\n",
      "301/301 [==============================] - 637s 2s/step - loss: 1.4918 - accuracy: 0.4200 - val_loss: 2.5510 - val_accuracy: 0.2788\n",
      "Epoch 4/22\n",
      "301/301 [==============================] - 632s 2s/step - loss: 1.4186 - accuracy: 0.4447 - val_loss: 1.1738 - val_accuracy: 0.5298\n",
      "Epoch 5/22\n",
      "301/301 [==============================] - 608s 2s/step - loss: 1.3087 - accuracy: 0.4906 - val_loss: 1.2701 - val_accuracy: 0.5148\n",
      "Epoch 6/22\n",
      "301/301 [==============================] - 580s 2s/step - loss: 1.2271 - accuracy: 0.5250 - val_loss: 1.8038 - val_accuracy: 0.4119\n",
      "Epoch 7/22\n",
      "301/301 [==============================] - 580s 2s/step - loss: 1.1568 - accuracy: 0.5557 - val_loss: 1.7270 - val_accuracy: 0.4192\n",
      "Epoch 8/22\n",
      "301/301 [==============================] - 578s 2s/step - loss: 1.1095 - accuracy: 0.5768 - val_loss: 1.6704 - val_accuracy: 0.4092\n",
      "Epoch 9/22\n",
      "301/301 [==============================] - 583s 2s/step - loss: 1.0373 - accuracy: 0.6028 - val_loss: 1.6628 - val_accuracy: 0.3948\n",
      "Epoch 10/22\n",
      "301/301 [==============================] - 576s 2s/step - loss: 0.9634 - accuracy: 0.6328 - val_loss: 5.0196 - val_accuracy: 0.2014\n",
      "Epoch 11/22\n",
      "301/301 [==============================] - 573s 2s/step - loss: 0.8766 - accuracy: 0.6731 - val_loss: 1.7232 - val_accuracy: 0.4673\n",
      "Epoch 12/22\n",
      "301/301 [==============================] - 574s 2s/step - loss: 0.7988 - accuracy: 0.7026 - val_loss: 1.2740 - val_accuracy: 0.5362\n",
      "Epoch 13/22\n",
      "301/301 [==============================] - 572s 2s/step - loss: 0.6888 - accuracy: 0.7468 - val_loss: 2.2033 - val_accuracy: 0.4115\n",
      "Epoch 14/22\n",
      "301/301 [==============================] - 571s 2s/step - loss: 0.5693 - accuracy: 0.7908 - val_loss: 1.8075 - val_accuracy: 0.5165\n",
      "Epoch 15/22\n",
      "301/301 [==============================] - 572s 2s/step - loss: 0.4724 - accuracy: 0.8303 - val_loss: 1.9590 - val_accuracy: 0.5217\n",
      "Epoch 16/22\n",
      "301/301 [==============================] - 572s 2s/step - loss: 0.4144 - accuracy: 0.8476 - val_loss: 1.9698 - val_accuracy: 0.5404\n",
      "Epoch 17/22\n",
      "301/301 [==============================] - 571s 2s/step - loss: 0.2414 - accuracy: 0.9173 - val_loss: 2.1024 - val_accuracy: 0.5212\n",
      "Epoch 18/22\n",
      "301/301 [==============================] - 570s 2s/step - loss: 0.2669 - accuracy: 0.9055 - val_loss: 2.5104 - val_accuracy: 0.5300\n",
      "Epoch 19/22\n",
      "301/301 [==============================] - 572s 2s/step - loss: 0.1868 - accuracy: 0.9374 - val_loss: 2.5700 - val_accuracy: 0.5250\n",
      "Epoch 20/22\n",
      "301/301 [==============================] - 570s 2s/step - loss: 0.1147 - accuracy: 0.9659 - val_loss: 2.3659 - val_accuracy: 0.5602\n",
      "Epoch 21/22\n",
      "301/301 [==============================] - 571s 2s/step - loss: 0.1097 - accuracy: 0.9678 - val_loss: 2.8875 - val_accuracy: 0.5056\n",
      "Epoch 22/22\n",
      "301/301 [==============================] - 572s 2s/step - loss: 0.1026 - accuracy: 0.9720 - val_loss: 2.7184 - val_accuracy: 0.5504\n"
     ]
    },
    {
     "data": {
      "text/plain": [
       "<keras.callbacks.History at 0x1deb0236800>"
      ]
     },
     "execution_count": 36,
     "metadata": {},
     "output_type": "execute_result"
    }
   ],
   "source": [
    "model.fit(X, y_new, epochs=22, batch_size=64, shuffle=True, validation_split=0.2)"
   ]
  },
  {
   "cell_type": "code",
   "execution_count": 37,
   "metadata": {},
   "outputs": [],
   "source": [
    "model.save('model.h5')"
   ]
  },
  {
   "cell_type": "code",
   "execution_count": 38,
   "metadata": {},
   "outputs": [],
   "source": [
    "import cv2"
   ]
  },
  {
   "cell_type": "code",
   "execution_count": 47,
   "metadata": {},
   "outputs": [],
   "source": [
    "test_img = cv2.imread('pexels-andrea-piacquadio-941693.jpg', 0)"
   ]
  },
  {
   "cell_type": "code",
   "execution_count": 48,
   "metadata": {},
   "outputs": [
    {
     "data": {
      "text/plain": [
       "(2107, 3211)"
      ]
     },
     "execution_count": 48,
     "metadata": {},
     "output_type": "execute_result"
    }
   ],
   "source": [
    "test_img.shape"
   ]
  },
  {
   "cell_type": "code",
   "execution_count": 49,
   "metadata": {},
   "outputs": [
    {
     "data": {
      "text/plain": [
       "(48, 48)"
      ]
     },
     "execution_count": 49,
     "metadata": {},
     "output_type": "execute_result"
    }
   ],
   "source": [
    "test_img = cv2.resize(test_img, (48,48))\n",
    "test_img.shape"
   ]
  },
  {
   "cell_type": "code",
   "execution_count": 50,
   "metadata": {},
   "outputs": [],
   "source": [
    "test_img = test_img.reshape(1,48,48,1)"
   ]
  },
  {
   "cell_type": "code",
   "execution_count": 51,
   "metadata": {},
   "outputs": [
    {
     "name": "stdout",
     "output_type": "stream",
     "text": [
      "1/1 [==============================] - 0s 277ms/step\n"
     ]
    },
    {
     "data": {
      "text/plain": [
       "array([[0., 1., 0., 0., 0., 0.]], dtype=float32)"
      ]
     },
     "execution_count": 51,
     "metadata": {},
     "output_type": "execute_result"
    }
   ],
   "source": [
    "model.predict(test_img)"
   ]
  },
  {
   "cell_type": "code",
   "execution_count": 52,
   "metadata": {},
   "outputs": [],
   "source": [
    "# label_map = ['Anger', 'Neutral', 'Fear', 'Happy', 'Sad', 'Surprise']"
   ]
  }
 ],
 "metadata": {
  "kernelspec": {
   "display_name": "Python 3.10.6 64-bit",
   "language": "python",
   "name": "python3"
  },
  "language_info": {
   "codemirror_mode": {
    "name": "ipython",
    "version": 3
   },
   "file_extension": ".py",
   "mimetype": "text/x-python",
   "name": "python",
   "nbconvert_exporter": "python",
   "pygments_lexer": "ipython3",
   "version": "3.10.6"
  },
  "vscode": {
   "interpreter": {
    "hash": "6e2bef92f6f3ad256bfd270c3e33cd77467926d8708da7625b4d55699c106db6"
   }
  }
 },
 "nbformat": 4,
 "nbformat_minor": 4
}
